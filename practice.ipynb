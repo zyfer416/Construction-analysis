{
  "nbformat": 4,
  "nbformat_minor": 0,
  "metadata": {
    "colab": {
      "provenance": [],
      "include_colab_link": true
    },
    "kernelspec": {
      "name": "python3",
      "display_name": "Python 3"
    },
    "language_info": {
      "name": "python"
    }
  },
  "cells": [
    {
      "cell_type": "markdown",
      "metadata": {
        "id": "view-in-github",
        "colab_type": "text"
      },
      "source": [
        "<a href=\"https://colab.research.google.com/github/zyfer416/Construction-analysis/blob/main/practice.ipynb\" target=\"_parent\"><img src=\"https://colab.research.google.com/assets/colab-badge.svg\" alt=\"Open In Colab\"/></a>"
      ]
    },
    {
      "cell_type": "markdown",
      "source": [
        "# **1. Define a Book class.**\n",
        "\n",
        "# **Create a class Book with attributes title, author, and pages. Implement a method info that returns a string containing the book's information.**"
      ],
      "metadata": {
        "id": "YAyZVrUPNiGc"
      }
    },
    {
      "cell_type": "code",
      "source": [
        "class Book:\n",
        "    def __init__(self, title, author, pages):\n",
        "        self.title = title\n",
        "        self.author = author\n",
        "        self.pages = pages\n",
        "\n",
        "    def info(self):\n",
        "        return f\"Title: '{self.title}', Author: {self.author}, Pages: {self.pages}\"\n",
        "\n",
        "# Example usage:\n",
        "if __name__ == \"__main__\":\n",
        "    book1 = Book(\"To Kill a Mockingbird\", \"Harper Lee\", 281)\n",
        "    print(book1.info())"
      ],
      "metadata": {
        "id": "lm00OOGPNo9Q",
        "colab": {
          "base_uri": "https://localhost:8080/"
        },
        "outputId": "7e5a273f-9da1-45dd-ef17-cd3b9507d48b"
      },
      "execution_count": null,
      "outputs": [
        {
          "output_type": "stream",
          "name": "stdout",
          "text": [
            "Title: 'To Kill a Mockingbird', Author: Harper Lee, Pages: 281\n"
          ]
        }
      ]
    },
    {
      "cell_type": "markdown",
      "source": [
        "# **2. Implement a Rectangle class with area calculation.**\n",
        "\n",
        "# **Write a class Rectangle that has width and height as attributes. Include a method area that returns the area of the rectangle.**"
      ],
      "metadata": {
        "id": "0SBKBn34Nu68"
      }
    },
    {
      "cell_type": "code",
      "source": [
        "class Rectangle:\n",
        "    def __init__(self, width, height):\n",
        "        self.width = width\n",
        "        self.height = height\n",
        "\n",
        "    def area(self):\n",
        "        return self.width * self.height\n",
        "rect = Rectangle(4, 5)\n",
        "print(rect.area())"
      ],
      "metadata": {
        "id": "mvXpNHw3NzlK",
        "colab": {
          "base_uri": "https://localhost:8080/"
        },
        "outputId": "57a80f9a-9357-4bf7-f11e-f6350e396b33"
      },
      "execution_count": null,
      "outputs": [
        {
          "output_type": "stream",
          "name": "stdout",
          "text": [
            "20\n"
          ]
        }
      ]
    },
    {
      "cell_type": "markdown",
      "source": [
        "# **3. Create a class Person with a class method to count instances.**\n",
        "\n",
        "# **Implement a class Person that keeps track of how many instances have been created. Use a class variable for this.**"
      ],
      "metadata": {
        "id": "n_i-z-GdN5cj"
      }
    },
    {
      "cell_type": "code",
      "source": [
        "class Person:\n",
        "    # Class variable to keep track of the number of instances\n",
        "    instance_counter = 0\n",
        "\n",
        "    def __init__(self):\n",
        "        # Increment the instance count each time a new instance is created\n",
        "        Person.instance_counter += 1\n",
        "\n",
        "    @classmethod\n",
        "    def get_instance_count(cls):\n",
        "        return cls.instance_counter\n",
        "\n",
        "# Example usage:\n",
        "p1 = Person()\n",
        "p2 = Person()\n",
        "print(Person.get_instance_count())  # Should print 2"
      ],
      "metadata": {
        "id": "XbjJzmJtN-P-",
        "colab": {
          "base_uri": "https://localhost:8080/"
        },
        "outputId": "99d3a48a-c43e-4577-aaef-8b40891d87d1"
      },
      "execution_count": null,
      "outputs": [
        {
          "output_type": "stream",
          "name": "stdout",
          "text": [
            "2\n"
          ]
        }
      ]
    },
    {
      "cell_type": "markdown",
      "source": [
        "# **4. Implement a BankAccount class with deposit and withdrawal methods.**\n",
        "\n",
        "# **Define a BankAccount class that has an attribute balance. Implement methods to deposit and withdraw money, ensuring the balance does not go negative.**"
      ],
      "metadata": {
        "id": "pIYWLNTWOBIF"
      }
    },
    {
      "cell_type": "code",
      "source": [
        "class BankAccount:\n",
        "    def __init__(self):\n",
        "        self.balance = 0.0  # Initialize balance to 0.0\n",
        "\n",
        "    def deposit(self, amount):\n",
        "        \"\"\"Deposit money into the account.\"\"\"\n",
        "        if amount > 0:\n",
        "            self.balance += amount\n",
        "        else:\n",
        "            raise ValueError(\"Deposit amount must be positive.\")\n",
        "\n",
        "    def withdraw(self, amount):\n",
        "        \"\"\"Withdraw money from the account if there are sufficient funds.\"\"\"\n",
        "        if amount > self.balance:\n",
        "            raise ValueError(\"Insufficient funds for withdrawal.\")\n",
        "        elif amount <= 0:\n",
        "            raise ValueError(\"Withdrawal amount must be positive.\")\n",
        "        else:\n",
        "            self.balance -= amount\n",
        "\n",
        "# Example usage:\n",
        "account = BankAccount()\n",
        "account.deposit(100)  # Deposit $100\n",
        "account.withdraw(50)   # Withdraw $50\n",
        "print(account.balance)  # Should print 50"
      ],
      "metadata": {
        "id": "umePndJxOHN0",
        "colab": {
          "base_uri": "https://localhost:8080/"
        },
        "outputId": "471dab31-0d68-49be-9f02-02a6b32a4e69"
      },
      "execution_count": null,
      "outputs": [
        {
          "output_type": "stream",
          "name": "stdout",
          "text": [
            "50.0\n"
          ]
        }
      ]
    },
    {
      "cell_type": "markdown",
      "source": [
        "# **5. Create a class Animal with subclasses for Dog and Cat.**\n",
        "\n",
        "# **Write a base class Animal with a method speak. Create subclasses Dog and Cat that override speak to return their respective sounds.**"
      ],
      "metadata": {
        "id": "LFkolNooOKLA"
      }
    },
    {
      "cell_type": "code",
      "source": [
        "class Animal:\n",
        "    # Your code here\n",
        "    def speak(self):\n",
        "        \"\"\"This method should be overridden in subclasses.\"\"\"\n",
        "        raise NotImplementedError(\"Subclass must implement abstract method\")\n",
        "\n",
        "class Dog(Animal):\n",
        "    def speak(self):\n",
        "        return \"Woof!\"\n",
        "\n",
        "class Cat(Animal):\n",
        "    def speak(self):\n",
        "        return \"Meow!\"\n",
        "\n",
        "# Example usage:\n",
        "if __name__ == \"__main__\":\n",
        "# Example usage:\n",
        "    dog = Dog()\n",
        "    cat = Cat()\n",
        "    print(dog.speak())  # Should print \"Woof!\"\n",
        "    print(cat.speak())  # Should print \"Meow!\"\n"
      ],
      "metadata": {
        "id": "dAsWQyccOQGB",
        "colab": {
          "base_uri": "https://localhost:8080/"
        },
        "outputId": "1fbe8393-5272-4aa3-ba41-8f0076118696"
      },
      "execution_count": null,
      "outputs": [
        {
          "output_type": "stream",
          "name": "stdout",
          "text": [
            "Woof!\n",
            "Meow!\n"
          ]
        }
      ]
    },
    {
      "cell_type": "markdown",
      "source": [
        "# **6. Implement a class ShoppingCart that can add items and calculate total.**\n",
        "\n",
        "# **Create a ShoppingCart class that can store items (name and price) and has a method to calculate the total price.**"
      ],
      "metadata": {
        "id": "BDssrBrYOYlc"
      }
    },
    {
      "cell_type": "code",
      "source": [
        "class ShoppingCart:\n",
        "    def __init__(self):\n",
        "        self.items = []  # Initialize an empty list to store items\n",
        "\n",
        "    def add_item(self, name, price):\n",
        "        \"\"\"Add an item to the shopping cart.\"\"\"\n",
        "        if price < 0:\n",
        "            raise ValueError(\"Price cannot be negative.\")\n",
        "        self.items.append({'name': name, 'price': price})  # Store items as dictionaries\n",
        "\n",
        "    def total(self):\n",
        "        \"\"\"Calculate the total price of items in the shopping cart.\"\"\"\n",
        "        return sum(item['price'] for item in self.items)  # Sum the prices of all items\n",
        "\n",
        "# Example usage:\n",
        "cart = ShoppingCart()\n",
        "cart.add_item(\"Apple\", 0.99)\n",
        "cart.add_item(\"Banana\", 0.59)\n",
        "print(cart.total())  # Should print 1.58"
      ],
      "metadata": {
        "id": "KkseGlPnOa7X",
        "colab": {
          "base_uri": "https://localhost:8080/"
        },
        "outputId": "357b112c-7414-46b7-c07d-e14f1ad2e85c"
      },
      "execution_count": null,
      "outputs": [
        {
          "output_type": "stream",
          "name": "stdout",
          "text": [
            "1.58\n"
          ]
        }
      ]
    }
  ]
}